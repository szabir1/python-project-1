{
  "cells": [
    {
      "cell_type": "markdown",
      "metadata": {
        "id": "view-in-github",
        "colab_type": "text"
      },
      "source": [
        "<a href=\"https://colab.research.google.com/github/szabir1/python-project-Data-Structure/blob/main/Binary_Tree_22201212_sec_8_Tree.ipynb\" target=\"_parent\"><img src=\"https://colab.research.google.com/assets/colab-badge.svg\" alt=\"Open In Colab\"/></a>"
      ]
    },
    {
      "cell_type": "code",
      "execution_count": null,
      "metadata": {
        "id": "D6vC520OPeTa"
      },
      "outputs": [],
      "source": [
        "class BTNode:\n",
        "  def __init__(self, elem):\n",
        "    self.elem = elem\n",
        "    self.right = None\n",
        "    self.left = None"
      ]
    },
    {
      "cell_type": "code",
      "execution_count": null,
      "metadata": {
        "id": "UDTKlm4-PfNM"
      },
      "outputs": [],
      "source": [
        "def inorder(root):\n",
        "  if root == None:\n",
        "    return\n",
        "\n",
        "  inorder(root.left)\n",
        "  print(root.elem, end = ' ')\n",
        "  inorder(root.right)"
      ]
    },
    {
      "cell_type": "code",
      "execution_count": null,
      "metadata": {
        "colab": {
          "base_uri": "https://localhost:8080/"
        },
        "id": "Rtc22SPzPgzM",
        "outputId": "8fbb6008-8757-4194-c7e3-aed2df7f8d03"
      },
      "outputs": [
        {
          "output_type": "stream",
          "name": "stdout",
          "text": [
            "H D B E A I F J C G k "
          ]
        }
      ],
      "source": [
        "def tree_construction(arr, i = 1):\n",
        "  if i>=len(arr) or arr[i] == None:\n",
        "    return None\n",
        "  p = BTNode(arr[i])\n",
        "  p.left = tree_construction(arr, 2*i)\n",
        "  p.right = tree_construction(arr, 2*i+1)\n",
        "  return p\n",
        "\n",
        "\n",
        "root2 = tree_construction([None, 'A', 'B', 'C', 'D', 'E', 'F', 'G', 'H', None, None, None, 'I', 'J', None, 'k'])\n",
        "inorder(root2)"
      ]
    },
    {
      "cell_type": "markdown",
      "metadata": {
        "id": "S2nNCJNhPqGq"
      },
      "source": [
        "Task 1"
      ]
    },
    {
      "cell_type": "code",
      "execution_count": null,
      "metadata": {
        "id": "zbBHU3FoPieb",
        "colab": {
          "base_uri": "https://localhost:8080/"
        },
        "outputId": "808aa58a-5a2f-4432-8fad-29bf74e96ef5"
      },
      "outputs": [
        {
          "output_type": "stream",
          "name": "stdout",
          "text": [
            "Given Tree Inorder Traversal:  40 20 60 10 30 \n",
            "Mirrored Tree Inorder Traversal:  30 10 60 20 40 "
          ]
        }
      ],
      "source": [
        "def convert_mirror(root):\n",
        "  #To Do\n",
        "  if root==None:\n",
        "    return\n",
        "  else:\n",
        "    x=BTNode(root.elem)\n",
        "    x.left=convert_mirror(root.right)\n",
        "    x.right=convert_mirror(root.left)\n",
        "    return x\n",
        "\n",
        "#DRIVER CODE\n",
        "root = BTNode(10)\n",
        "n1 = BTNode(20)\n",
        "n2 = BTNode(30)\n",
        "n3 = BTNode(40)\n",
        "n4 = BTNode(60)\n",
        "\n",
        "root.left = n1\n",
        "root.right = n2\n",
        "\n",
        "n1.left = n3\n",
        "n1.right = n4\n",
        "\n",
        "print('Given Tree Inorder Traversal: ', end = ' ')\n",
        "inorder(root) #Given Tree Inorder Traversal:  40 20 60 10 30\n",
        "print()\n",
        "\n",
        "root2 = convert_mirror(root)\n",
        "print('Mirrored Tree Inorder Traversal: ', end = ' ')\n",
        "inorder(root2) #Mirrored Tree Inorder Traversal:  30 10 60 20 40"
      ]
    },
    {
      "cell_type": "markdown",
      "metadata": {
        "id": "c-TBf3m0PrtK"
      },
      "source": [
        "Task 2"
      ]
    },
    {
      "cell_type": "code",
      "execution_count": null,
      "metadata": {
        "id": "lsuxinlBPmji",
        "colab": {
          "base_uri": "https://localhost:8080/"
        },
        "outputId": "c4360602-b498-4827-b249-5decb8868d94"
      },
      "outputs": [
        {
          "output_type": "stream",
          "name": "stdout",
          "text": [
            "Given Tree Inorder Traversal:  3 9 -5 4 2 7 \n",
            "Level Wise Smallest Value:  {0: 4, 1: 2, 2: -5}\n"
          ]
        }
      ],
      "source": [
        "def smallest_level(root,dic={},i=0):\n",
        "  #To Do\n",
        "  if root!=None:\n",
        "    if i not in dic:\n",
        "      dic[i]=root.elem\n",
        "    else:\n",
        "      if dic[i]>root.elem:\n",
        "        dic[i]=root.elem\n",
        "    smallest_level(root.left,dic,i+1)\n",
        "    smallest_level(root.right,dic,i+1)\n",
        "  return dic\n",
        "\n",
        "#DRIVER CODE\n",
        "root = tree_construction([None, 4,9,2,3,-5,None,7])\n",
        "print('Given Tree Inorder Traversal: ', end = ' ')\n",
        "inorder(root) #Given Tree Inorder Traversal:  3 9 5 4 2 7\n",
        "print()\n",
        "print('Level Wise Smallest Value: ', end = ' ')\n",
        "print(smallest_level(root)) #Level Wise Smallest Value:  {0: 4, 1: 2, 2: -5}"
      ]
    },
    {
      "cell_type": "markdown",
      "metadata": {
        "id": "7r3lH3aWPz2d"
      },
      "source": [
        "Task 3"
      ]
    },
    {
      "cell_type": "code",
      "execution_count": null,
      "metadata": {
        "id": "zFwP64v4Pu6d",
        "colab": {
          "base_uri": "https://localhost:8080/"
        },
        "outputId": "6a48a7db-e943-41e6-c8ac-119d24d20ffb"
      },
      "outputs": [
        {
          "output_type": "stream",
          "name": "stdout",
          "text": [
            "Given Tree Inorder Traversal:  4 8 10 12 14 20 22 \n",
            "Inorder predecessor of node 20: 14\n"
          ]
        }
      ],
      "source": [
        "def maximum(a):\n",
        "    if a.right==None:\n",
        "      return a\n",
        "    else:\n",
        "      return maximum(a.right)\n",
        "\n",
        "\n",
        "def inorder_predecessor(root, x):\n",
        "\n",
        "  if x.left!=None:\n",
        "    return maximum(x.left)\n",
        "  else:\n",
        "    pred = BTNode('Not found')\n",
        "    while root != None:\n",
        "      if x.elem > root.elem:\n",
        "        pred = root\n",
        "        root = root.right\n",
        "      else:\n",
        "        root = root.left\n",
        "    return pred\n",
        "\n",
        "root = BTNode(20)\n",
        "n1 = BTNode(8)\n",
        "n2 = BTNode(22)\n",
        "n3 = BTNode(4)\n",
        "n4 = BTNode(12)\n",
        "n5 = BTNode(10)\n",
        "n6 = BTNode(14)\n",
        "\n",
        "root.left = n1\n",
        "root.right = n2\n",
        "\n",
        "n1.left = n3\n",
        "n1.right = n4\n",
        "\n",
        "n4.left = n5\n",
        "n4.right = n6\n",
        "\n",
        "print('Given Tree Inorder Traversal: ', end = ' ')\n",
        "inorder(root) #Given Tree Inorder Traversal:  4 8 10 12 14 20 22\n",
        "print()\n",
        "\n",
        "x = root\n",
        "print(f'Inorder predecessor of node {x.elem}: {inorder_predecessor(root, x).elem}') #Inorder predecessor of node 20: 14"
      ]
    },
    {
      "cell_type": "markdown",
      "metadata": {
        "id": "t3IGW4OaP8Vy"
      },
      "source": [
        "Task 4"
      ]
    },
    {
      "cell_type": "code",
      "source": [
        "def sumTree(root):\n",
        "\n",
        "  def helper_func(node, level):\n",
        "    if node is None:\n",
        "      return 0\n",
        "\n",
        "    if level == 0:\n",
        "      return node.elem + helper_func(node.left, level + 1) + helper_func(node.right, level + 1)\n",
        "\n",
        "    return node.elem % level + helper_func(node.left, level + 1) + helper_func(node.right, level + 1)\n",
        "\n",
        "  return helper_func(root, 0)"
      ],
      "metadata": {
        "id": "1TRCQOCWxkye"
      },
      "execution_count": null,
      "outputs": []
    },
    {
      "cell_type": "code",
      "source": [
        "# Driver Code\n",
        "root1 = BTNode(9)\n",
        "node2 = BTNode(4)\n",
        "node3 = BTNode(5)\n",
        "node4 = BTNode(18)\n",
        "node5 = BTNode(14)\n",
        "node6 = BTNode(3)\n",
        "node7 = BTNode(54)\n",
        "node8 = BTNode(12)\n",
        "node9 = BTNode(8)\n",
        "node10 = BTNode(91)\n",
        "node11 = BTNode(56)\n",
        "\n",
        "root1.left = node2\n",
        "root1.right = node3\n",
        "\n",
        "node2.left = node4\n",
        "\n",
        "node3.left = node5\n",
        "node3.right = node6\n",
        "\n",
        "node4.left = node7\n",
        "node4.right = node8\n",
        "\n",
        "node5.left = node9\n",
        "\n",
        "node8.left = node10\n",
        "node8.right = node11\n",
        "\n",
        "print(sumTree(root1)) #This should print 15"
      ],
      "metadata": {
        "id": "wV3ezsf_Kwli",
        "colab": {
          "base_uri": "https://localhost:8080/"
        },
        "outputId": "32e9e4cc-dcf1-41aa-ee33-da31fed34745"
      },
      "execution_count": null,
      "outputs": [
        {
          "output_type": "stream",
          "name": "stdout",
          "text": [
            "15\n"
          ]
        }
      ]
    },
    {
      "cell_type": "markdown",
      "source": [
        "Task 5"
      ],
      "metadata": {
        "id": "T3Pimbw_PLHY"
      }
    },
    {
      "cell_type": "code",
      "source": [
        "def swap_child(root, level, M):\n",
        "  def helper(node, current_level):\n",
        "    if node is None:\n",
        "      return\n",
        "\n",
        "    if current_level < M:\n",
        "      node.left, node.right = node.right, node.left\n",
        "\n",
        "    helper(node.left, current_level + 1)\n",
        "    helper(node.right, current_level + 1)\n",
        "\n",
        "  helper(root, 0)\n",
        "  return root\n",
        "\n",
        "# Driver Code\n",
        "root = BTNode('A')\n",
        "root.left = BTNode('B')\n",
        "root.right = BTNode('C')\n",
        "root.left.left = BTNode('D')\n",
        "root.left.right = BTNode('E')\n",
        "root.right.right = BTNode('F')\n",
        "root.left.left.left = BTNode('G')\n",
        "root.left.left.right = BTNode('H')\n",
        "root.left.right.left = BTNode('I')\n",
        "root.right.right.left = BTNode('J')\n",
        "\n",
        "print('Given Tree Inorder Traversal: ', end=' ')\n",
        "inorder(root)  # Given Tree Inorder Traversal: G D H B I E A C J F\n",
        "print()\n",
        "\n",
        "root2 = swap_child(root, 0, 2)\n",
        "print('Swapped Tree Inorder Traversal: ', end=' ')\n",
        "inorder(root2)  # Swapped Tree Inorder Traversal: J F C A I E B G D H"
      ],
      "metadata": {
        "id": "0Rb_m6FRKktN",
        "colab": {
          "base_uri": "https://localhost:8080/"
        },
        "outputId": "9dbbd8b2-ba2f-4e3e-c7eb-a5e8383da2a3"
      },
      "execution_count": null,
      "outputs": [
        {
          "output_type": "stream",
          "name": "stdout",
          "text": [
            "Given Tree Inorder Traversal:  G D H B I E A C J F \n",
            "Swapped Tree Inorder Traversal:  J F C A I E B G D H "
          ]
        }
      ]
    },
    {
      "cell_type": "markdown",
      "source": [
        "Task 6"
      ],
      "metadata": {
        "id": "8GJeWub8Ki1X"
      }
    },
    {
      "cell_type": "code",
      "source": [
        "def subtract_summation(root):\n",
        "\n",
        "    if root is None:\n",
        "      return 0\n",
        "\n",
        "    left_sum = calculate_sum(root.left)\n",
        "\n",
        "    right_sum = calculate_sum(root.right)\n",
        "\n",
        "    return left_sum - right_sum\n",
        "\n",
        "def calculate_sum(node):\n",
        "\n",
        "    if node is None:\n",
        "        return 0\n",
        "\n",
        "    left_sum = calculate_sum(node.left)\n",
        "    right_sum = calculate_sum(node.right)\n",
        "\n",
        "    return node.elem + left_sum + right_sum\n",
        "\n",
        "# Driver Code\n",
        "root = BTNode(71)\n",
        "root.left = BTNode(27)\n",
        "root.left.left = BTNode(80)\n",
        "root.left.left.left = BTNode(87)\n",
        "root.left.right = BTNode(75)\n",
        "root.left.left.right = BTNode(56)\n",
        "root.right = BTNode(62)\n",
        "root.right.right = BTNode(3)\n",
        "root.right.right.right = BTNode(89)\n",
        "root.right.left = BTNode(41)\n",
        "root.right.right.left = BTNode(19)\n",
        "\n",
        "print(subtract_summation(root))  # This should print 111"
      ],
      "metadata": {
        "id": "dMXJ2qxkNn_F",
        "colab": {
          "base_uri": "https://localhost:8080/"
        },
        "outputId": "5f1791f1-9e6b-49db-b3be-896917d42b1c"
      },
      "execution_count": null,
      "outputs": [
        {
          "output_type": "stream",
          "name": "stdout",
          "text": [
            "111\n"
          ]
        }
      ]
    },
    {
      "cell_type": "markdown",
      "metadata": {
        "id": "SBD-0xoZP_ni"
      },
      "source": [
        "Bonus Task"
      ]
    },
    {
      "cell_type": "code",
      "source": [
        "def level_sum(root):\n",
        "  if root is None:\n",
        "    return 0\n",
        "\n",
        "  def helper(node, level, odd_sum, even_sum):\n",
        "\n",
        "    if node is None:\n",
        "      return odd_sum, even_sum\n",
        "\n",
        "    if level % 2 == 0:\n",
        "        even_sum += node.elem\n",
        "    else:\n",
        "        odd_sum += node.elem\n",
        "\n",
        "    odd_sum, even_sum = helper(node.left, level + 1, odd_sum, even_sum)\n",
        "    odd_sum, even_sum = helper(node.right, level + 1, odd_sum, even_sum)\n",
        "\n",
        "    return odd_sum, even_sum\n",
        "\n",
        "  odd_sum, even_sum = helper(root, 0, 0, 0)\n",
        "  return odd_sum - even_sum\n",
        "\n",
        "#DRIVER CODE\n",
        "root = BTNode(1)\n",
        "n2 = BTNode(2)\n",
        "n3 = BTNode(3)\n",
        "n4 = BTNode(4)\n",
        "n5 = BTNode(5)\n",
        "n6 = BTNode(6)\n",
        "n7 = BTNode(7)\n",
        "n8 = BTNode(8)\n",
        "root.left = n2\n",
        "root.right = n3\n",
        "\n",
        "n2.left = n4\n",
        "n3.left = n5\n",
        "n3.right = n6\n",
        "\n",
        "n5.left = n7\n",
        "n5.right = n8\n",
        "\n",
        "\n",
        "print(level_sum(root)) #This should print 4"
      ],
      "metadata": {
        "id": "U_LYhaRIxZCb",
        "colab": {
          "base_uri": "https://localhost:8080/"
        },
        "outputId": "45edf0a2-1a37-40ac-d925-bf19c9db8024"
      },
      "execution_count": null,
      "outputs": [
        {
          "output_type": "stream",
          "name": "stdout",
          "text": [
            "4\n"
          ]
        }
      ]
    }
  ],
  "metadata": {
    "colab": {
      "provenance": [],
      "include_colab_link": true
    },
    "kernelspec": {
      "display_name": "Python 3",
      "name": "python3"
    },
    "language_info": {
      "name": "python"
    }
  },
  "nbformat": 4,
  "nbformat_minor": 0
}