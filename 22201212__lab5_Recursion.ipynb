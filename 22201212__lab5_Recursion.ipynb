{
  "nbformat": 4,
  "nbformat_minor": 0,
  "metadata": {
    "colab": {
      "provenance": [],
      "include_colab_link": true
    },
    "kernelspec": {
      "name": "python3",
      "display_name": "Python 3"
    },
    "language_info": {
      "name": "python"
    }
  },
  "cells": [
    {
      "cell_type": "markdown",
      "metadata": {
        "id": "view-in-github",
        "colab_type": "text"
      },
      "source": [
        "<a href=\"https://colab.research.google.com/github/szabir1/python-project-Data-Structure/blob/main/22201212__lab5_Recursion.ipynb\" target=\"_parent\"><img src=\"https://colab.research.google.com/assets/colab-badge.svg\" alt=\"Open In Colab\"/></a>"
      ]
    },
    {
      "cell_type": "code",
      "execution_count": null,
      "metadata": {
        "id": "khpg8V7sEw8S",
        "colab": {
          "base_uri": "https://localhost:8080/"
        },
        "outputId": "5087bb45-d1e6-4eeb-a902-e930041f0c6f"
      },
      "outputs": [
        {
          "output_type": "stream",
          "name": "stdout",
          "text": [
            "Collecting fhm-unittest\n",
            "  Downloading fhm_unittest-1.0.1-py3-none-any.whl.metadata (1.9 kB)\n",
            "Downloading fhm_unittest-1.0.1-py3-none-any.whl (2.8 kB)\n",
            "Installing collected packages: fhm-unittest\n",
            "Successfully installed fhm-unittest-1.0.1\n",
            "Collecting fuzzywuzzy\n",
            "  Downloading fuzzywuzzy-0.18.0-py2.py3-none-any.whl.metadata (4.9 kB)\n",
            "Downloading fuzzywuzzy-0.18.0-py2.py3-none-any.whl (18 kB)\n",
            "Installing collected packages: fuzzywuzzy\n",
            "Successfully installed fuzzywuzzy-0.18.0\n"
          ]
        },
        {
          "output_type": "stream",
          "name": "stderr",
          "text": [
            "/usr/local/lib/python3.10/dist-packages/fuzzywuzzy/fuzz.py:11: UserWarning: Using slow pure-python SequenceMatcher. Install python-Levenshtein to remove this warning\n",
            "  warnings.warn('Using slow pure-python SequenceMatcher. Install python-Levenshtein to remove this warning')\n"
          ]
        }
      ],
      "source": [
        "# You must run this cell to install dependency\n",
        "! pip3 install fhm-unittest\n",
        "! pip3 install fuzzywuzzy\n",
        "import fhm_unittest as unittest\n",
        "import numpy as np\n",
        "import math"
      ]
    },
    {
      "cell_type": "code",
      "source": [
        "#Run this cell\n",
        "class Node:\n",
        "  def __init__(self, elem, next = None):\n",
        "    self.elem = elem\n",
        "    self.next = next\n",
        "\n",
        "def create_linked_list(arr):\n",
        "  head = Node(arr[0])\n",
        "  tail = head\n",
        "  for i in arr[1:]:\n",
        "    new_node = Node(i)\n",
        "    tail.next = new_node\n",
        "    tail = new_node\n",
        "  return head"
      ],
      "metadata": {
        "id": "CK9Oj44gE3pF"
      },
      "execution_count": null,
      "outputs": []
    },
    {
      "cell_type": "markdown",
      "source": [
        "***Very Easy***"
      ],
      "metadata": {
        "id": "R_V6b8ygFGm3"
      }
    },
    {
      "cell_type": "code",
      "source": [
        "#a)\n",
        "def recursive_sum(arr,i=0):\n",
        "  #To Do\n",
        " if i == len(arr):\n",
        "  return 0\n",
        " elif arr[i]>=0 and arr[i]%2==0:\n",
        "  return arr[i] + recursive_sum(arr, i+1)\n",
        " else:\n",
        "  return recursive_sum(arr, i+1)\n",
        "\n",
        "arr1 = np.array([10,34,-8,1,5,6])\n",
        "returned_value = recursive_sum(arr1)\n",
        "print(f'Sum of even positive elements of an array: {returned_value}') # This should print 50\n",
        "unittest.output_test(returned_value, 50)"
      ],
      "metadata": {
        "id": "CQwx4z3KFNs5",
        "colab": {
          "base_uri": "https://localhost:8080/"
        },
        "outputId": "8b1d1910-6924-46e2-c329-f88956587ba3"
      },
      "execution_count": null,
      "outputs": [
        {
          "output_type": "stream",
          "name": "stdout",
          "text": [
            "Sum of even positive elements of an array: 50\n",
            "Accepted\n"
          ]
        }
      ]
    },
    {
      "cell_type": "code",
      "source": [
        "#b)\n",
        "def recursive_multiply(head):\n",
        "  #To Do\n",
        "  if head is None:\n",
        "   return 1\n",
        "\n",
        "  current_value = head.elem\n",
        "  if current_value % 2 == 1 and current_value > 0:\n",
        "    return current_value * recursive_multiply(head.next)\n",
        "  else:\n",
        "    return recursive_multiply(head.next)\n",
        "\n",
        "arr1 = np.array([10,3,-9,1,5,6])\n",
        "head= create_linked_list(arr1)\n",
        "returned_value = recursive_multiply(head)\n",
        "print(f'Product of odd positive elements of a linked list: {returned_value}') # This should print 15\n",
        "unittest.output_test(returned_value, 15)"
      ],
      "metadata": {
        "id": "abvPPN-IGAvt",
        "colab": {
          "base_uri": "https://localhost:8080/"
        },
        "outputId": "e8c72c73-4976-4882-a7b2-ecb3616ddeb8"
      },
      "execution_count": null,
      "outputs": [
        {
          "output_type": "stream",
          "name": "stdout",
          "text": [
            "Product of odd positive elements of a linked list: 15\n",
            "Accepted\n"
          ]
        }
      ]
    },
    {
      "cell_type": "code",
      "source": [
        "#c)\n",
        "def nCr(n,r):\n",
        "  #To Do\n",
        " if r == 0:\n",
        "  return 1\n",
        " elif r > n:\n",
        "  return 0\n",
        " else:\n",
        "  return nCr(n - 1, r) + nCr(n - 1, r - 1)\n",
        "\n",
        "print('========1========')\n",
        "returned_value = nCr(9,6)\n",
        "print(f'9C6: {returned_value}') # This should print 84\n",
        "unittest.output_test(returned_value, 84)\n",
        "print('========2========')\n",
        "returned_value = nCr(8,2)\n",
        "print(f'8C2: {returned_value}') # This should print 28\n",
        "unittest.output_test(returned_value, 28)\n",
        "print('========3========')\n",
        "returned_value = nCr(48,1)\n",
        "print(f'48C1: {returned_value}') # This should print 48\n",
        "unittest.output_test(returned_value, 48)"
      ],
      "metadata": {
        "id": "8D_7DtDyHCxU",
        "colab": {
          "base_uri": "https://localhost:8080/"
        },
        "outputId": "b955ea44-65c6-44e7-cebc-8d1b27ba0e89"
      },
      "execution_count": null,
      "outputs": [
        {
          "output_type": "stream",
          "name": "stdout",
          "text": [
            "========1========\n",
            "9C6: 84\n",
            "Accepted\n",
            "========2========\n",
            "8C2: 28\n",
            "Accepted\n",
            "========3========\n",
            "48C1: 48\n",
            "Accepted\n"
          ]
        }
      ]
    },
    {
      "cell_type": "code",
      "source": [
        "#d)\n",
        "def count_digit_recursive(num):\n",
        "  #To Do\n",
        "  if num//10 == 0:\n",
        "    return 1\n",
        "  else:\n",
        "    return 1 + count_digit_recursive(num // 10)\n",
        "\n",
        "returned_value = count_digit_recursive(7508)\n",
        "print(f'Number of Digits: {returned_value}') # This should print 4\n",
        "unittest.output_test(returned_value, 4)"
      ],
      "metadata": {
        "id": "jVtwgHrgHkgh",
        "colab": {
          "base_uri": "https://localhost:8080/"
        },
        "outputId": "30ad3a5d-f6e3-4b1c-bef2-eb3af6ec1129"
      },
      "execution_count": null,
      "outputs": [
        {
          "output_type": "stream",
          "name": "stdout",
          "text": [
            "Number of Digits: 4\n",
            "Accepted\n"
          ]
        }
      ]
    },
    {
      "cell_type": "code",
      "source": [
        "#e)\n",
        "def check_prime_recursive(num,divisor=2):\n",
        "  #To Do\n",
        "  if num <= 1:\n",
        "    return False\n",
        "  if divisor * divisor > num:\n",
        "    return True\n",
        "  if num % divisor == 0:\n",
        "    return False\n",
        "\n",
        "  return check_prime_recursive(num, divisor + 1)\n",
        "\n",
        "\n",
        "print('========1========')\n",
        "returned_value = check_prime_recursive(79)\n",
        "print(f'Prime: {returned_value}') # This should print True\n",
        "unittest.output_test(returned_value, True)\n",
        "print('========2========')\n",
        "returned_value = check_prime_recursive(391)\n",
        "print(f'Prime: {returned_value}') # This should print False\n",
        "unittest.output_test(returned_value, False)"
      ],
      "metadata": {
        "id": "l-E6DJRLH0kK",
        "colab": {
          "base_uri": "https://localhost:8080/"
        },
        "outputId": "397ea52b-7565-446a-8932-46eaf69ae72d"
      },
      "execution_count": null,
      "outputs": [
        {
          "output_type": "stream",
          "name": "stdout",
          "text": [
            "========1========\n",
            "Prime: True\n",
            "Accepted\n",
            "========2========\n",
            "Prime: False\n",
            "Accepted\n"
          ]
        }
      ]
    },
    {
      "cell_type": "code",
      "source": [
        "#f)\n",
        "def recursive_print(head):\n",
        "  #To Do\n",
        " if head is not None:\n",
        "  recursive_print(head.next)\n",
        "  print(head.elem, end=\" \")\n",
        "arr1 = np.array([10,20,30,40])\n",
        "head= create_linked_list(arr1)\n",
        "recursive_print(head) #This should print 40  30  20  10"
      ],
      "metadata": {
        "id": "-Nht9tzrIM-d",
        "colab": {
          "base_uri": "https://localhost:8080/"
        },
        "outputId": "32c5d9cc-d976-4234-d573-918c0541511f"
      },
      "execution_count": null,
      "outputs": [
        {
          "output_type": "stream",
          "name": "stdout",
          "text": [
            "40 30 20 10 "
          ]
        }
      ]
    },
    {
      "cell_type": "markdown",
      "source": [
        "**Easy**"
      ],
      "metadata": {
        "id": "FaruwS4mIrV7"
      }
    },
    {
      "cell_type": "code",
      "source": [
        "#a)\n",
        "def dec_to_binary_recursive(n):\n",
        "  #To Do\n",
        " if n == 0:\n",
        "  return \"0\"\n",
        " elif n == 1:\n",
        "  return \"1\"\n",
        " else:\n",
        "  quotient_binary = dec_to_binary_recursive(n // 2)\n",
        "  return quotient_binary +str(n% 2)\n",
        "\n",
        "print('========1========')\n",
        "returned_value = dec_to_binary_recursive(35)\n",
        "print(f'Binary Number: {returned_value}') # This should print 100011\n",
        "unittest.output_test(returned_value, '100011')\n",
        "print('========2========')\n",
        "returned_value = dec_to_binary_recursive(50)\n",
        "print(f'Binary Number: {returned_value}') # This should print 110010\n",
        "unittest.output_test(returned_value, '110010')"
      ],
      "metadata": {
        "id": "W7640FZLIuLV",
        "colab": {
          "base_uri": "https://localhost:8080/"
        },
        "outputId": "6ef3c067-ec3f-4c83-d7e2-c3bd34b47a3d"
      },
      "execution_count": null,
      "outputs": [
        {
          "output_type": "stream",
          "name": "stdout",
          "text": [
            "========1========\n",
            "Binary Number: 100011\n",
            "Accepted\n",
            "========2========\n",
            "Binary Number: 110010\n",
            "Accepted\n"
          ]
        }
      ]
    },
    {
      "cell_type": "code",
      "source": [
        "#b)\n",
        "#you may use this for decimal to hexadecimal mapping of 0-15\n",
        "def encoding(dec_number): #0<=dec_number<=15\n",
        "  return '0123456789ABCDEF'[dec_number]\n",
        "\n",
        "def dec_to_hexa_recursive(n):\n",
        "  #To Do\n",
        "  if n//16==0:\n",
        "    return encoding(n%16)\n",
        "  else:\n",
        "    return dec_to_hexa_recursive(n//16)+encoding(n%16)\n",
        "\n",
        "print('Use of encoding function')\n",
        "decimal_number = 7\n",
        "print(f'Hexadecimal Number: {encoding(decimal_number)}')\n",
        "decimal_number = 13\n",
        "print(f'Hexadecimal Number: {encoding(decimal_number)}')\n",
        "\n",
        "print('========1========')\n",
        "returned_value = dec_to_hexa_recursive(1230)\n",
        "print(f'Hexadecimal Number: {returned_value}') # This should print 4CE\n",
        "unittest.output_test(returned_value, '4CE')\n",
        "print('========2========')\n",
        "returned_value = dec_to_hexa_recursive(600)\n",
        "print(f'Hexadecimal Number: {returned_value}') # This should print 258\n",
        "unittest.output_test(returned_value, '258')"
      ],
      "metadata": {
        "id": "VlLtOS7hJ82d",
        "colab": {
          "base_uri": "https://localhost:8080/"
        },
        "outputId": "2316b8e6-a1c1-4329-bbaf-d3523cb868e8"
      },
      "execution_count": null,
      "outputs": [
        {
          "output_type": "stream",
          "name": "stdout",
          "text": [
            "Use of encoding function\n",
            "Hexadecimal Number: 7\n",
            "Hexadecimal Number: D\n",
            "========1========\n",
            "Hexadecimal Number: 4CE\n",
            "Accepted\n",
            "========2========\n",
            "Hexadecimal Number: 258\n",
            "Accepted\n"
          ]
        }
      ]
    },
    {
      "cell_type": "code",
      "source": [
        "#c)\n",
        "def print_alphabets_recursive(head):\n",
        "  #To Do\n",
        " if head!=None:\n",
        "  if head.elem in \"aeiouAEIOU\":\n",
        "    print(head.elem,end=\" \")\n",
        "    print_alphabets_recursive(head.next)\n",
        "  else:\n",
        "    print_alphabets_recursive(head.next)\n",
        "    print(head.elem,end=\" \")\n",
        "\n",
        "head = create_linked_list(np.array(['b', 'e', 'a', 'u', 't', 'i', 'f', 'u', 'l']))\n",
        "print_alphabets_recursive(head) #This will print e a u i u l f t b"
      ],
      "metadata": {
        "id": "Rx7d1KQ4KYnD",
        "colab": {
          "base_uri": "https://localhost:8080/"
        },
        "outputId": "bd6e5f8a-5ff8-4d8a-8b02-90c1bbd04b3f"
      },
      "execution_count": null,
      "outputs": [
        {
          "output_type": "stream",
          "name": "stdout",
          "text": [
            "e a u i u l f t b "
          ]
        }
      ]
    },
    {
      "cell_type": "code",
      "source": [
        "#d)\n",
        "def harmonic_sum(n):\n",
        "  #To Do\n",
        " if n<=1:\n",
        "  return 1\n",
        " if n % 2 == 0:\n",
        "  return harmonic_sum(n-1) - 1/n\n",
        " else:\n",
        "  return harmonic_sum(n-1) + 1/n\n",
        "print(f'Harmonic Sum(3): {harmonic_sum(3)}') #This should print 0.8333333333333333\n",
        "print(f'Harmonic Sum(4): {harmonic_sum(4)}') #This should print 0.5833333333333333"
      ],
      "metadata": {
        "id": "R3rw-DcTKv9D",
        "colab": {
          "base_uri": "https://localhost:8080/"
        },
        "outputId": "3b90b749-d23f-4745-d037-1d27487a530d"
      },
      "execution_count": null,
      "outputs": [
        {
          "output_type": "stream",
          "name": "stdout",
          "text": [
            "Harmonic Sum(3): 0.8333333333333333\n",
            "Harmonic Sum(4): 0.5833333333333333\n"
          ]
        }
      ]
    },
    {
      "cell_type": "markdown",
      "source": [
        "***Medium***"
      ],
      "metadata": {
        "id": "uIVLqevBLPR2"
      }
    },
    {
      "cell_type": "code",
      "source": [
        "#a)\n",
        "def hoc_Builder(height):\n",
        "  #To Do\n",
        " if height==0:\n",
        "   return 0\n",
        " elif height==1:\n",
        "   return 8 + hoc_Builder(height-1)\n",
        " return 5 + hoc_Builder(height-1)\n",
        "\n",
        "print(f'Cards Needed: {hoc_Builder(4)}') #This should print 23\n",
        "unittest.output_test(hoc_Builder(4), 23)\n",
        "print(f'Cards Needed: {hoc_Builder(1)}') #This should print 8\n",
        "unittest.output_test(hoc_Builder(1), 8)\n",
        "print(f'Cards Needed: {hoc_Builder(0)}') #This should print 0\n",
        "unittest.output_test(hoc_Builder(0), 0)"
      ],
      "metadata": {
        "id": "4AK8p_IPLRuD",
        "colab": {
          "base_uri": "https://localhost:8080/"
        },
        "outputId": "c8f01839-d93d-437f-c750-c0bf9a486a91"
      },
      "execution_count": null,
      "outputs": [
        {
          "output_type": "stream",
          "name": "stdout",
          "text": [
            "Cards Needed: 23\n",
            "Accepted\n",
            "Cards Needed: 8\n",
            "Accepted\n",
            "Cards Needed: 0\n",
            "Accepted\n"
          ]
        }
      ]
    },
    {
      "cell_type": "code",
      "source": [
        "#b)\n",
        "def reach_goal(n, step=0):\n",
        "  #To Do\n",
        " if n == 1:\n",
        "  return step\n",
        " elif n % 2 == 0:\n",
        "  return reach_goal(n/2, step+1)\n",
        " else:\n",
        "  return reach_goal(n*3+1, step+1)\n",
        "steps=reach_goal(21)\n",
        "print(f'Number of steps to reach the goal: {steps}')  #This should print 7\n",
        "unittest.output_test(steps, 7)"
      ],
      "metadata": {
        "id": "7ITBJGokNCK5",
        "colab": {
          "base_uri": "https://localhost:8080/"
        },
        "outputId": "53aa6280-5b94-45ab-e475-21bebe0e040e"
      },
      "execution_count": null,
      "outputs": [
        {
          "output_type": "stream",
          "name": "stdout",
          "text": [
            "Number of steps to reach the goal: 7\n",
            "Accepted\n"
          ]
        }
      ]
    },
    {
      "cell_type": "markdown",
      "source": [
        "***Hard***"
      ],
      "metadata": {
        "id": "PlLMRsV2NrZf"
      }
    },
    {
      "cell_type": "code",
      "source": [
        "#a)\n",
        "def col_print(n):\n",
        "  if n-5 <= 0:\n",
        "    return str(n) + \" \" + str(n-5) + \" \" + str(n)\n",
        "  return str(n) + \" \" + str(col_print(n-5)) + \" \" + str(n)\n",
        "\n",
        "def print_pattern(n, idx = 0,val=0 ):\n",
        "  if idx == 0:\n",
        "    if n % 5 == 0:\n",
        "      val = n//5\n",
        "    else:\n",
        "      val = n//5 + 1\n",
        "  if idx == val:\n",
        "    return \"\"\n",
        "  print(\"   \" * idx + col_print(n))\n",
        "  print_pattern(n-5, idx + 1,val )\n",
        "\n",
        "\n",
        "n = 16\n",
        "print_pattern(n)\n",
        "#This should print\n",
        "\n",
        "#16 11 6 1 -4 1 6 11 16\n",
        "#   11 6 1 -4 1 6 11\n",
        "#      6 1 -4 1 6\n",
        "#        1 -4 1\n",
        "\n",
        "print('========2========')\n",
        "n = 10\n",
        "print_pattern(n)\n",
        "#This should print\n",
        "\n",
        "#10 5 0 5 10\n",
        "#   5 0 5"
      ],
      "metadata": {
        "id": "RWAqyXraNtSJ",
        "colab": {
          "base_uri": "https://localhost:8080/"
        },
        "outputId": "0c6df130-2e51-4b79-954f-b16f01caa39a"
      },
      "execution_count": null,
      "outputs": [
        {
          "output_type": "stream",
          "name": "stdout",
          "text": [
            "16 11 6 1 -4 1 6 11 16\n",
            "   11 6 1 -4 1 6 11\n",
            "      6 1 -4 1 6\n",
            "         1 -4 1\n",
            "========2========\n",
            "10 5 0 5 10\n",
            "   5 0 5\n"
          ]
        }
      ]
    },
    {
      "cell_type": "markdown",
      "source": [],
      "metadata": {
        "id": "y43WiUoGmMQt"
      }
    },
    {
      "cell_type": "code",
      "source": [
        "#b)\n",
        "def merge_Lists(mid_list,final_list,combined_list):\n",
        "  # To Do\n",
        "  if mid_list==None and final_list==None:\n",
        "    return combined_list\n",
        "  if not mid_list:\n",
        "    return final_list[::-1] + combined_list\n",
        "  elif not final_list:\n",
        "    return mid_list[::-1] + combined_list\n",
        "\n",
        "  if mid_list[-1] > final_list[-1]:\n",
        "    return [mid_list[-1]] + merge_Lists(mid_list[:-1], final_list, combined_list)\n",
        "  else:\n",
        "    return [final_list[-1]] + merge_Lists(mid_list, final_list[:-1], combined_list)\n",
        "\n",
        "mid=[5, 7, 14, 20, 24]\n",
        "final=[10, 12, 25]\n",
        "merged_list=merge_Lists(mid,final,[])\n",
        "print(merged_list)\n",
        "# This should print [25, 24, 20, 14, 12, 10, 7, 5]\n",
        "\n",
        "mid=[11, 20, 24, 28]\n",
        "final=[10, 12]\n",
        "merged_list=merge_Lists(mid,final,[])\n",
        "print(merged_list)\n",
        "# This should print [28, 24, 20, 12, 11, 10]\n"
      ],
      "metadata": {
        "id": "x9v3jcLlOiaF",
        "colab": {
          "base_uri": "https://localhost:8080/"
        },
        "outputId": "39ca2640-65e9-4cc4-913c-60f11457d2fd"
      },
      "execution_count": null,
      "outputs": [
        {
          "output_type": "stream",
          "name": "stdout",
          "text": [
            "[25, 24, 20, 14, 12, 10, 7, 5]\n",
            "[28, 24, 20, 12, 11, 10]\n"
          ]
        }
      ]
    },
    {
      "cell_type": "markdown",
      "source": [
        "***Very Hard***"
      ],
      "metadata": {
        "id": "zGz5S4uoO7wr"
      }
    },
    {
      "cell_type": "code",
      "source": [
        "def flatten_List(given_list, output_list,idx=0):\n",
        "  #To Do\n",
        "  if idx==len(given_list):\n",
        "    return output_list\n",
        "  elif type(given_list[idx])==list:\n",
        "    flatten_List(given_list[idx], output_list)\n",
        "  else:\n",
        "    output_list.append(given_list[idx])\n",
        "  return flatten_List(given_list, output_list,idx+1)\n",
        "\n",
        "given_list = [1, [2, [3, [4], 5], 6], 7, 8, [9, [[10, 11], 12], 13], 14, [15, [16, [17]]]]\n",
        "output_list = flatten_List(given_list, []) # Initial empty list is sent for update\n",
        "print(output_list)\n",
        "#This should print [1, 2, 3, 4, 5, 6, 7, 8, 9, 10, 11, 12, 13, 14, 15, 16, 17]"
      ],
      "metadata": {
        "id": "HGUnmMwQO_DH",
        "colab": {
          "base_uri": "https://localhost:8080/"
        },
        "outputId": "52143235-9a8a-43bb-d007-17aaa948bdce"
      },
      "execution_count": null,
      "outputs": [
        {
          "output_type": "stream",
          "name": "stdout",
          "text": [
            "[1, 2, 3, 4, 5, 6, 7, 8, 9, 10, 11, 12, 13, 14, 15, 16, 17]\n"
          ]
        }
      ]
    },
    {
      "cell_type": "markdown",
      "source": [
        "***Bonus Task***"
      ],
      "metadata": {
        "id": "VIxr27qEP-b-"
      }
    },
    {
      "cell_type": "code",
      "source": [
        "def number_of_ways(steps):\n",
        "  #To Do\n",
        "  if steps < 0:\n",
        "    return 0\n",
        "  elif steps == 0:\n",
        "    return 1\n",
        "\n",
        "  ways_step_1 = number_of_ways(steps - 1)\n",
        "  ways_step_2 = 0\n",
        "  ways_step_3 = 0\n",
        "\n",
        "  if steps >= 2:\n",
        "    ways_step_2 = number_of_ways(steps - 2)\n",
        "  if steps >= 3:\n",
        "    ways_step_3 = number_of_ways(steps - 3)\n",
        "\n",
        "  return ways_step_1 + ways_step_2+ ways_step_3\n",
        "\n",
        "print(f'The number of ways you can climb the stairs: {number_of_ways(3)}') #This should print 4\n",
        "print(f'The number of ways you can climb the stairs: {number_of_ways(5)}') #This should print 13"
      ],
      "metadata": {
        "id": "kTNaTP-2QBSw",
        "colab": {
          "base_uri": "https://localhost:8080/"
        },
        "outputId": "a2241784-9ab1-49b9-a262-72aedb9b35d9"
      },
      "execution_count": null,
      "outputs": [
        {
          "output_type": "stream",
          "name": "stdout",
          "text": [
            "The number of ways you can climb the stairs: 4\n",
            "The number of ways you can climb the stairs: 13\n"
          ]
        }
      ]
    },
    {
      "cell_type": "code",
      "source": [
        "class ListNode:\n",
        "    def __init__(self, val=0, next=None):\n",
        "        self.val = val\n",
        "        self.next = next\n",
        "\n",
        "def create_linked_list(values):\n",
        "    \"\"\"Creates a linked list from a list of values.\"\"\"\n",
        "    head = None\n",
        "    tail = None\n",
        "    for val in values:\n",
        "        new_node = ListNode(val)\n",
        "        if not head:\n",
        "            head = new_node\n",
        "            tail = new_node\n",
        "        else:\n",
        "            tail.next = new_node\n",
        "            tail = tail.next\n",
        "    return head\n",
        "\n",
        "def remove_elements(head, val):\n",
        "    if not head:\n",
        "        return None\n",
        "\n",
        "    head.next = remove_elements(head.next, val)\n",
        "    return head if head.val >= val else head.next\n",
        "\n",
        "def print_linked_list(head):\n",
        "    result = []\n",
        "    while head:\n",
        "        result.append(head.val)\n",
        "        head = head.next\n",
        "    print(result)\n",
        "\n",
        "# Driver code\n",
        "if __name__ == \"__main__\":\n",
        "    print(\"Example 1:\")\n",
        "    head1 = create_linked_list([1, 2, 6, 3, 4, 5, 6])\n",
        "    new_head1 = remove_elements(head1, 6)\n",
        "    print_linked_list(new_head1)  # Output: [1, 2, 3, 4, 5]"
      ],
      "metadata": {
        "colab": {
          "base_uri": "https://localhost:8080/"
        },
        "id": "Q2QL5GzwB9b7",
        "outputId": "b2cd0f6e-ac56-46d9-f5f7-138a7a5143b3"
      },
      "execution_count": null,
      "outputs": [
        {
          "output_type": "stream",
          "name": "stdout",
          "text": [
            "Example 1:\n",
            "[6, 6]\n"
          ]
        }
      ]
    },
    {
      "cell_type": "code",
      "source": [
        "class Node:\n",
        "  def __init__(self,elem,next=None):\n",
        "    self.elem=elem\n",
        "    self.next=next\n",
        "  def create_linked_list(arr):\n",
        "    head=Node(arr[0])\n",
        "    tail=head\n",
        "    for i in arr[1:]:\n",
        "      new_node=Node(i)\n",
        "      tail.next=new_node\n",
        "      tail=new_node\n",
        "    return head\n",
        "print(\"ex:1\")\n",
        "head1=create_linked_list([1,2,6,3,4,5,6])\n",
        "new_head1=remove_elements(head1,6)\n",
        "print)linked_list(new_head1)\n",
        "#Expected output:[1,2,3,4,5]\n"
      ],
      "metadata": {
        "id": "tQUWIqUWCPUQ"
      },
      "execution_count": null,
      "outputs": []
    },
    {
      "cell_type": "code",
      "source": [
        "def remove_elements(head, val):\n",
        "    if not head:\n",
        "        return None\n",
        "\n",
        "    # Handle the case where the head needs to be removed\n",
        "    while head and head.elem < val:\n",
        "        head = head.next\n",
        "\n",
        "    prev = None\n",
        "    curr = head\n",
        "    while curr:\n",
        "        if curr.elem < val:\n",
        "            # Remove the current node\n",
        "            if prev:\n",
        "                prev.next = curr.next\n",
        "            else:\n",
        "                # Update head if removing the first node\n",
        "                head = curr.next\n",
        "            curr = curr.next\n",
        "        else:\n",
        "            # Keep the node, update pointers\n",
        "            prev = curr\n",
        "            curr = curr.next\n",
        "\n",
        "    return head\n",
        "\n",
        "def print_linked_list(head):\n",
        "    result = []\n",
        "    while head:\n",
        "        result.append(head.elem)\n",
        "        head = head.next\n",
        "    print(result)\n",
        "print(\"ex:1\")\n",
        "head1=create_linked_list([1,2,6,3,4,5,6])\n",
        "new__linked_list(new_head1)\n",
        "#Expected output:[1,2,3,4,5]"
      ],
      "metadata": {
        "colab": {
          "base_uri": "https://localhost:8080/",
          "height": 349
        },
        "id": "XXOHmrPeDZ4c",
        "outputId": "bd7abdb2-b14c-4a22-db47-0c2336be621d"
      },
      "execution_count": null,
      "outputs": [
        {
          "output_type": "stream",
          "name": "stdout",
          "text": [
            "ex:1\n"
          ]
        },
        {
          "output_type": "error",
          "ename": "AttributeError",
          "evalue": "'ListNode' object has no attribute 'elem'",
          "traceback": [
            "\u001b[0;31m---------------------------------------------------------------------------\u001b[0m",
            "\u001b[0;31mAttributeError\u001b[0m                            Traceback (most recent call last)",
            "\u001b[0;32m<ipython-input-8-ab4419b26534>\u001b[0m in \u001b[0;36m<cell line: 35>\u001b[0;34m()\u001b[0m\n\u001b[1;32m     33\u001b[0m \u001b[0mprint\u001b[0m\u001b[0;34m(\u001b[0m\u001b[0;34m\"ex:1\"\u001b[0m\u001b[0;34m)\u001b[0m\u001b[0;34m\u001b[0m\u001b[0;34m\u001b[0m\u001b[0m\n\u001b[1;32m     34\u001b[0m \u001b[0mhead1\u001b[0m\u001b[0;34m=\u001b[0m\u001b[0mcreate_linked_list\u001b[0m\u001b[0;34m(\u001b[0m\u001b[0;34m[\u001b[0m\u001b[0;36m1\u001b[0m\u001b[0;34m,\u001b[0m\u001b[0;36m2\u001b[0m\u001b[0;34m,\u001b[0m\u001b[0;36m6\u001b[0m\u001b[0;34m,\u001b[0m\u001b[0;36m3\u001b[0m\u001b[0;34m,\u001b[0m\u001b[0;36m4\u001b[0m\u001b[0;34m,\u001b[0m\u001b[0;36m5\u001b[0m\u001b[0;34m,\u001b[0m\u001b[0;36m6\u001b[0m\u001b[0;34m]\u001b[0m\u001b[0;34m)\u001b[0m\u001b[0;34m\u001b[0m\u001b[0;34m\u001b[0m\u001b[0m\n\u001b[0;32m---> 35\u001b[0;31m \u001b[0mnew_head1\u001b[0m\u001b[0;34m=\u001b[0m\u001b[0mremove_elements\u001b[0m\u001b[0;34m(\u001b[0m\u001b[0mhead1\u001b[0m\u001b[0;34m,\u001b[0m\u001b[0;36m6\u001b[0m\u001b[0;34m)\u001b[0m\u001b[0;34m\u001b[0m\u001b[0;34m\u001b[0m\u001b[0m\n\u001b[0m\u001b[1;32m     36\u001b[0m \u001b[0mprint\u001b[0m\u001b[0;34m(\u001b[0m\u001b[0mlinked_list\u001b[0m\u001b[0;34m(\u001b[0m\u001b[0mnew_head1\u001b[0m\u001b[0;34m)\u001b[0m\u001b[0;34m)\u001b[0m\u001b[0;34m\u001b[0m\u001b[0;34m\u001b[0m\u001b[0m\n\u001b[1;32m     37\u001b[0m \u001b[0;31m#Expected output:[1,2,3,4,5]\u001b[0m\u001b[0;34m\u001b[0m\u001b[0;34m\u001b[0m\u001b[0m\n",
            "\u001b[0;32m<ipython-input-8-ab4419b26534>\u001b[0m in \u001b[0;36mremove_elements\u001b[0;34m(head, val)\u001b[0m\n\u001b[1;32m      4\u001b[0m \u001b[0;34m\u001b[0m\u001b[0m\n\u001b[1;32m      5\u001b[0m     \u001b[0;31m# Handle the case where the head needs to be removed\u001b[0m\u001b[0;34m\u001b[0m\u001b[0;34m\u001b[0m\u001b[0m\n\u001b[0;32m----> 6\u001b[0;31m     \u001b[0;32mwhile\u001b[0m \u001b[0mhead\u001b[0m \u001b[0;32mand\u001b[0m \u001b[0mhead\u001b[0m\u001b[0;34m.\u001b[0m\u001b[0melem\u001b[0m \u001b[0;34m<\u001b[0m \u001b[0mval\u001b[0m\u001b[0;34m:\u001b[0m\u001b[0;34m\u001b[0m\u001b[0;34m\u001b[0m\u001b[0m\n\u001b[0m\u001b[1;32m      7\u001b[0m         \u001b[0mhead\u001b[0m \u001b[0;34m=\u001b[0m \u001b[0mhead\u001b[0m\u001b[0;34m.\u001b[0m\u001b[0mnext\u001b[0m\u001b[0;34m\u001b[0m\u001b[0;34m\u001b[0m\u001b[0m\n\u001b[1;32m      8\u001b[0m \u001b[0;34m\u001b[0m\u001b[0m\n",
            "\u001b[0;31mAttributeError\u001b[0m: 'ListNode' object has no attribute 'elem'"
          ]
        }
      ]
    },
    {
      "cell_type": "code",
      "source": [
        "class Node:\n",
        "    def __init__(self, elem, next=None):\n",
        "        self.elem = elem\n",
        "        self.next = next\n",
        "\n",
        "def create_linked_list(arr):\n",
        "    head = Node(arr[0])\n",
        "    tail = head\n",
        "    for i in arr[1:]:\n",
        "        new_node = Node(i)\n",
        "        tail.next = new_node\n",
        "        tail = new_node\n",
        "\n",
        "    return head\n",
        "\n",
        "def remove_elements(head, val):\n",
        "    if not head:\n",
        "        return None\n",
        "\n",
        "    # Handle the case where the head needs to be removed\n",
        "    if head.elem < val:\n",
        "        return remove_elements(head.next, val)\n",
        "\n",
        "    # Recursively remove elements from the rest of the list\n",
        "    head.next = remove_elements(head.next, val)\n",
        "\n",
        "    # Return the updated head\n",
        "    return head\n",
        "\n",
        "def print_linked_list(head):\n",
        "    result = []\n",
        "    while head:\n",
        "        result.append(head.elem)\n",
        "        head = head.next\n",
        "    print(result)\n",
        "\n",
        "# Driver code\n",
        "if __name__ == \"__main__\":\n",
        "    print(\"Example 1:\")\n",
        "    head1 = create_linked_list([1, 2, 6, 3, 4, 5, 6])\n",
        "    new_head1 = remove_elements(head1, 4)\n",
        "    print_linked_list(new_head1)  # Output: [1, 2, 3, 4, 5]"
      ],
      "metadata": {
        "colab": {
          "base_uri": "https://localhost:8080/"
        },
        "id": "ymDKxenUEYBD",
        "outputId": "08ed0270-8dcf-4d86-821b-4c2f411961fa"
      },
      "execution_count": null,
      "outputs": [
        {
          "output_type": "stream",
          "name": "stdout",
          "text": [
            "Example 1:\n",
            "[6, 4, 5, 6]\n"
          ]
        }
      ]
    },
    {
      "cell_type": "code",
      "source": [
        "result=int(1//2)\n",
        "print(result)"
      ],
      "metadata": {
        "colab": {
          "base_uri": "https://localhost:8080/"
        },
        "id": "NKL3ciOmVnjh",
        "outputId": "eeba9d29-6721-4ada-b712-eab8f4d6b6ba"
      },
      "execution_count": null,
      "outputs": [
        {
          "output_type": "stream",
          "name": "stdout",
          "text": [
            "0\n"
          ]
        }
      ]
    }
  ]
}